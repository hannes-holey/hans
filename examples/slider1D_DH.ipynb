{
 "cells": [
  {
   "cell_type": "code",
   "execution_count": null,
   "metadata": {},
   "outputs": [],
   "source": [
    "# from hans.input import Input\n",
    "# myProblem = Input(\"slider1D_DH.yaml\", None).getProblem()\n",
    "# myProblem.run()"
   ]
  },
  {
   "cell_type": "code",
   "execution_count": null,
   "metadata": {},
   "outputs": [],
   "source": [
    "import numpy as np\n",
    "import matplotlib.pyplot as plt\n",
    "from hans.plottools import Plot"
   ]
  },
  {
   "cell_type": "code",
   "execution_count": null,
   "metadata": {},
   "outputs": [],
   "source": [
    "%matplotlib notebook\n",
    "gr = 1.618\n",
    "\n",
    "pt_per_inch = 72\n",
    "width_pt = 600\n",
    "size_x = width_pt / pt_per_inch\n",
    "size_y = size_x / gr"
   ]
  },
  {
   "cell_type": "code",
   "execution_count": null,
   "metadata": {},
   "outputs": [],
   "source": [
    "files = Plot(\"data\", mode=\"name\",fname=[\"slider1D_DH_0001.nc\"])"
   ]
  },
  {
   "cell_type": "code",
   "execution_count": null,
   "metadata": {},
   "outputs": [],
   "source": [
    "fig1, ax1 = files.plot_cut(\"p\", figsize=(size_x, size_y), xscale=1e3, yscale=1e-6)\n",
    "ax1.set_xlabel(r\"Distance $x\\,\\mathrm{(mm)}$\")\n",
    "ax1.set_ylabel(r\"Pressure $p\\,\\mathrm{(MPa)}$\")\n",
    "ax1.lines[0].set_label(\"hans\")\n",
    "\n",
    "pref = np.loadtxt(\"../tests/slider_2e-3_inf_DH_ref.dat\", usecols=(1,))\n",
    "ax1.plot(ax1.lines[0].get_xdata(), pref*1e-6, '--', color=\"0.0\")\n",
    "ax1.lines[1].set_label(\"Reynolds (FD)\")\n",
    "\n",
    "ax1.legend();"
   ]
  }
 ],
 "metadata": {
  "kernelspec": {
   "display_name": "Python 3",
   "language": "python",
   "name": "python3"
  },
  "language_info": {
   "codemirror_mode": {
    "name": "ipython",
    "version": 3
   },
   "file_extension": ".py",
   "mimetype": "text/x-python",
   "name": "python",
   "nbconvert_exporter": "python",
   "pygments_lexer": "ipython3",
   "version": "3.6.9"
  }
 },
 "nbformat": 4,
 "nbformat_minor": 2
}
