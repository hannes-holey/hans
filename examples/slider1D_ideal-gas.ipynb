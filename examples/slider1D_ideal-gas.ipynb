{
 "cells": [
  {
   "cell_type": "code",
   "execution_count": null,
   "metadata": {},
   "outputs": [],
   "source": [
    "import matplotlib.pyplot as plt\n",
    "from hans.input import Input\n",
    "from hans.plottools import DatasetSelector"
   ]
  },
  {
   "cell_type": "code",
   "execution_count": null,
   "metadata": {},
   "outputs": [],
   "source": [
    "myProblem = Input(\"slider1D_ideal-gas.yaml\", None).getProblem()\n",
    "myProblem.run(out_dir=\"data\")"
   ]
  },
  {
   "cell_type": "code",
   "execution_count": null,
   "metadata": {},
   "outputs": [],
   "source": [
    "files = DatasetSelector(\"data\", mode=\"select\")"
   ]
  },
  {
   "cell_type": "code",
   "execution_count": null,
   "metadata": {},
   "outputs": [],
   "source": [
    "%matplotlib notebook\n",
    "\n",
    "gr = 1.618\n",
    "pt_per_inch = 72\n",
    "width_pt = 500\n",
    "size_x = width_pt / pt_per_inch\n",
    "size_y = size_x / gr\n",
    "\n",
    "fig, ax = plt.subplots(figsize=(size_x, size_y))\n",
    "\n",
    "data = files.get_centerline(\"p\")\n",
    "\n",
    "for fn, fdata in data.items():\n",
    "    \n",
    "    xdata = fdata[\"p\"][0]\n",
    "    ydata = fdata[\"p\"][1]\n",
    "    ax.plot(xdata*1e3, ydata/1e6)\n",
    "\n",
    "ax.set_xlabel(r\"Distance $x\\,\\mathrm{(mm)}$\")\n",
    "ax.set_ylabel(r\"Pressure $p\\,\\mathrm{(MPa)}$\");"
   ]
  }
 ],
 "metadata": {
  "kernelspec": {
   "display_name": "Python 3",
   "language": "python",
   "name": "python3"
  },
  "language_info": {
   "codemirror_mode": {
    "name": "ipython",
    "version": 3
   },
   "file_extension": ".py",
   "mimetype": "text/x-python",
   "name": "python",
   "nbconvert_exporter": "python",
   "pygments_lexer": "ipython3",
   "version": "3.6.9"
  }
 },
 "nbformat": 4,
 "nbformat_minor": 2
}
