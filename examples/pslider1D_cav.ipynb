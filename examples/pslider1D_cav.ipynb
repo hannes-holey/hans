{
 "cells": [
  {
   "cell_type": "code",
   "execution_count": null,
   "metadata": {},
   "outputs": [],
   "source": [
    "import numpy as np\n",
    "import matplotlib.pyplot as plt\n",
    "from hans.input import Input\n",
    "from hans.plottools import DatasetSelector"
   ]
  },
  {
   "cell_type": "code",
   "execution_count": null,
   "metadata": {},
   "outputs": [],
   "source": [
    "myProblem = Input(\"pslider1D_cav.yaml\", None).getProblem()\n",
    "myProblem.run(out_dir=\"data\")"
   ]
  },
  {
   "cell_type": "code",
   "execution_count": null,
   "metadata": {},
   "outputs": [],
   "source": [
    "files = DatasetSelector(\".\", mode=\"select\")"
   ]
  },
  {
   "cell_type": "code",
   "execution_count": null,
   "metadata": {},
   "outputs": [],
   "source": [
    "%matplotlib notebook\n",
    "gr = 1.618\n",
    "pt_per_inch = 72\n",
    "width_pt = 500\n",
    "size_x = width_pt / pt_per_inch\n",
    "size_y = size_x / gr"
   ]
  },
  {
   "cell_type": "code",
   "execution_count": null,
   "metadata": {},
   "outputs": [],
   "source": [
    "fig1, ax1 = plt.subplots(figsize=(size_x, size_y))\n",
    "\n",
    "data = files.get_centerline(\"p\")\n",
    "\n",
    "for fn, fdata in data.items():\n",
    "    \n",
    "    xdata = fdata[\"p\"][0]\n",
    "    ydata = fdata[\"p\"][1]\n",
    "    ax1.plot(xdata*1e3, ydata/1e6)\n",
    "\n",
    "ax1.set_xlabel(r\"Distance $x\\,\\mathrm{(mm)}$\")\n",
    "ax1.set_ylabel(r\"Pressure $p\\,\\mathrm{(MPa)}$\");"
   ]
  },
  {
   "cell_type": "code",
   "execution_count": null,
   "metadata": {},
   "outputs": [],
   "source": [
    "fig2, ax2 = plt.subplots(figsize=(size_x, size_y))\n",
    "\n",
    "data = files.get_centerline(\"rho\")\n",
    "\n",
    "for fn, fdata in data.items():\n",
    "    \n",
    "    xdata = fdata[\"rho\"][0]\n",
    "    ydata = fdata[\"rho\"][1]\n",
    "    ax2.plot(xdata*1e3, ydata/850)\n",
    "\n",
    "ax2.set_xlabel(r\"Distance $x\\,\\mathrm{(mm)}$\")\n",
    "ax2.set_ylabel(r\"Relative density $\\rho/\\rho_l$\");"
   ]
  },
  {
   "cell_type": "code",
   "execution_count": null,
   "metadata": {},
   "outputs": [],
   "source": [
    "fig3, ax3 = plt.subplots(figsize=(size_x, size_y))\n",
    "\n",
    "data = files.get_scalar(\"mass\")\n",
    "\n",
    "for fn, fdata in data.items():\n",
    "    \n",
    "    xdata = fdata[\"mass\"][0]\n",
    "    ydata = fdata[\"mass\"][1]\n",
    "    ax3.plot(xdata*1e3, ydata*1e3)\n",
    "\n",
    "ax3.set_xlabel(r\"Time $t\\,\\mathrm{(ms)}$\")\n",
    "ax3.set_ylabel(r\"Total mass $m\\,\\mathrm{(g)}$\");"
   ]
  }
 ],
 "metadata": {
  "kernelspec": {
   "display_name": "Python 3",
   "language": "python",
   "name": "python3"
  },
  "language_info": {
   "codemirror_mode": {
    "name": "ipython",
    "version": 3
   },
   "file_extension": ".py",
   "mimetype": "text/x-python",
   "name": "python",
   "nbconvert_exporter": "python",
   "pygments_lexer": "ipython3",
   "version": "3.6.9"
  }
 },
 "nbformat": 4,
 "nbformat_minor": 2
}
