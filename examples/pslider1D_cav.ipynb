{
 "cells": [
  {
   "cell_type": "code",
   "execution_count": null,
   "metadata": {},
   "outputs": [],
   "source": [
    "# from hans.input import Input\n",
    "# myProblem = Input(\"pslider1D_cav.yaml\", None).getProblem()\n",
    "# myProblem.run()"
   ]
  },
  {
   "cell_type": "code",
   "execution_count": null,
   "metadata": {},
   "outputs": [],
   "source": [
    "import numpy as np\n",
    "import matplotlib.pyplot as plt\n",
    "from hans.plottools import Plot"
   ]
  },
  {
   "cell_type": "code",
   "execution_count": null,
   "metadata": {},
   "outputs": [],
   "source": [
    "%matplotlib notebook\n",
    "gr = 1.618\n",
    "\n",
    "pt_per_inch = 72\n",
    "width_pt = 600\n",
    "size_x = width_pt / pt_per_inch\n",
    "size_y = size_x / gr"
   ]
  },
  {
   "cell_type": "code",
   "execution_count": null,
   "metadata": {},
   "outputs": [],
   "source": [
    "files = Plot(\".\", mode=\"name\", fname=[\"data/pslider1d_cav_0001.nc\"])"
   ]
  },
  {
   "cell_type": "code",
   "execution_count": null,
   "metadata": {},
   "outputs": [],
   "source": [
    "fig1, ax1 = files.plot_cut(\"p\", figsize=(size_x, size_y), xscale=1e3, yscale=1e-6)\n",
    "ax1.set_xlabel(r\"Distance $x\\,\\mathrm{(mm)}$\")\n",
    "ax1.set_ylabel(r\"Pressure $p\\,\\mathrm{(MPa)}$\")\n",
    "ax1.lines[0].set_label(\"hans\")\n",
    "\n",
    "xref, pref = np.loadtxt(\"../tests/pslider_bayada_p.dat\", unpack=True)\n",
    "ax1.plot(xref*1e3, pref*1e-6, '--', color=\"0.0\")\n",
    "\n",
    "ax1.lines[-1].set_label(\"Bayada (2014)\")\n",
    "ax1.legend();"
   ]
  },
  {
   "cell_type": "code",
   "execution_count": null,
   "metadata": {},
   "outputs": [],
   "source": [
    "fig2, ax2 = files.plot_cut(\"rho\", figsize=(size_x, size_y), xscale=1e3, yscale=1/850)\n",
    "ax2.set_xlabel(r\"Distance $x\\,\\mathrm{(mm)}$\")\n",
    "ax2.set_ylabel(r\"Relative density $\\rho/\\rho_l$\")\n",
    "ax2.lines[0].set_label(\"hans\")\n",
    "\n",
    "xref, theta_ref = np.loadtxt(\"../tests/pslider_bayada_sat.dat\", unpack=True)\n",
    "ax2.plot(xref*1e3, theta_ref, '--', color=\"0.0\")\n",
    "\n",
    "ax2.lines[-1].set_label(\"Bayada (2014)\")\n",
    "ax2.legend();"
   ]
  },
  {
   "cell_type": "code",
   "execution_count": null,
   "metadata": {},
   "outputs": [],
   "source": [
    "fig3, ax3 = files.plot_timeseries(\"mass\", figsize=(size_x, size_y), xscale=1e3, yscale=1e3)\n",
    "ax3.set_xlabel(r\"Time $t\\,\\mathrm{(ms)}$\")\n",
    "ax3.set_ylabel(r\"Total mass $m\\,\\mathrm{(g)}$\")\n",
    "ax3.lines[0].set_label(\"hans\")"
   ]
  }
 ],
 "metadata": {
  "kernelspec": {
   "display_name": "Python 3",
   "language": "python",
   "name": "python3"
  },
  "language_info": {
   "codemirror_mode": {
    "name": "ipython",
    "version": 3
   },
   "file_extension": ".py",
   "mimetype": "text/x-python",
   "name": "python",
   "nbconvert_exporter": "python",
   "pygments_lexer": "ipython3",
   "version": "3.6.9"
  }
 },
 "nbformat": 4,
 "nbformat_minor": 2
}
