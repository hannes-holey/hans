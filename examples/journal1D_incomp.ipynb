{
 "cells": [
  {
   "cell_type": "code",
   "execution_count": null,
   "metadata": {},
   "outputs": [],
   "source": [
    "import numpy as np\n",
    "import matplotlib.pyplot as plt\n",
    "from hans.input import Input\n",
    "from hans.plottools import DatasetSelector"
   ]
  },
  {
   "cell_type": "code",
   "execution_count": null,
   "metadata": {},
   "outputs": [],
   "source": [
    "myProblem = Input(\"journal1D_incomp.yaml\").getProblem()\n",
    "myProblem.run(out_dir=\"data\")"
   ]
  },
  {
   "cell_type": "code",
   "execution_count": null,
   "metadata": {},
   "outputs": [],
   "source": [
    "files = DatasetSelector(\"data\", mode=\"select\")"
   ]
  },
  {
   "cell_type": "code",
   "execution_count": null,
   "metadata": {
    "scrolled": true
   },
   "outputs": [],
   "source": [
    "%matplotlib notebook\n",
    "\n",
    "gr = 1.618\n",
    "pt_per_inch = 72\n",
    "width_pt = 500\n",
    "size_x = width_pt / pt_per_inch\n",
    "size_y = size_x / gr\n",
    "\n",
    "fig, ax = plt.subplots(figsize=(size_x, size_y))\n",
    "data = files.get_centerline(\"p\")\n",
    "\n",
    "for fn, cl in data.items():\n",
    "    ax.plot(cl[\"p\"][0], cl[\"p\"][1] / 1e6, label=\"hans\")\n",
    "\n",
    "# reference solution\n",
    "pref = np.loadtxt(\"../tests/journal-bearing1D_eps0.7_incompressible.dat\", usecols=(1,))\n",
    "x = ax.lines[0].get_xdata()\n",
    "ax.plot(x, pref*1e-6, '--', color=\"0.0\", label=\"Sommerfeld solution\")\n",
    "\n",
    "ax.set_xlabel(r\"Distance $x\\,\\mathrm{(mm)}$\")\n",
    "ax.set_ylabel(r\"Pressure $p\\,\\mathrm{(MPa)}$\")\n",
    "ax.legend();"
   ]
  }
 ],
 "metadata": {
  "kernelspec": {
   "display_name": "Python 3",
   "language": "python",
   "name": "python3"
  },
  "language_info": {
   "codemirror_mode": {
    "name": "ipython",
    "version": 3
   },
   "file_extension": ".py",
   "mimetype": "text/x-python",
   "name": "python",
   "nbconvert_exporter": "python",
   "pygments_lexer": "ipython3",
   "version": "3.6.9"
  }
 },
 "nbformat": 4,
 "nbformat_minor": 2
}
