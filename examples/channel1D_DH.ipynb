{
 "cells": [
  {
   "cell_type": "code",
   "execution_count": null,
   "metadata": {},
   "outputs": [],
   "source": [
    "import matplotlib.pyplot as plt\n",
    "from hans.input import Input\n",
    "from hans.plottools import DatasetSelector"
   ]
  },
  {
   "cell_type": "code",
   "execution_count": null,
   "metadata": {},
   "outputs": [],
   "source": [
    "myProblem = Input(\"channel1D_DH.yaml\", None).getProblem()\n",
    "myProblem.run(out_dir=\"data\")"
   ]
  },
  {
   "cell_type": "code",
   "execution_count": null,
   "metadata": {},
   "outputs": [],
   "source": [
    "files = DatasetSelector(\"data\", mode=\"single\")"
   ]
  },
  {
   "cell_type": "code",
   "execution_count": null,
   "metadata": {},
   "outputs": [],
   "source": [
    "%matplotlib notebook\n",
    "\n",
    "fig, ax = plt.subplots()\n",
    "time, x, ydata = files.get_centerlines(\"p\")[0]\n",
    "cmap = plt.cm.coolwarm\n",
    "\n",
    "maxT = time[-1]\n",
    "sm = plt.cm.ScalarMappable(cmap=cmap, norm=plt.Normalize(vmin=0, vmax=maxT*1e6))\n",
    "for t, y in zip(time, ydata):\n",
    "    ax.plot(x*1e3, y/101325, color=cmap(t/maxT))\n",
    "        \n",
    "fig.colorbar(sm, ax=ax, label='time $t$ (µs)', extend='max')\n",
    "\n",
    "ax.set_xlabel(r\"Distance $x\\,\\mathrm{(mm)}$\")\n",
    "ax.set_ylabel(r\"Pressure $p\\,\\mathrm{(atm)}$\");"
   ]
  }
 ],
 "metadata": {
  "kernelspec": {
   "display_name": "Python 3",
   "language": "python",
   "name": "python3"
  },
  "language_info": {
   "codemirror_mode": {
    "name": "ipython",
    "version": 3
   },
   "file_extension": ".py",
   "mimetype": "text/x-python",
   "name": "python",
   "nbconvert_exporter": "python",
   "pygments_lexer": "ipython3",
   "version": "3.8.10"
  }
 },
 "nbformat": 4,
 "nbformat_minor": 2
}
