{
 "cells": [
  {
   "cell_type": "code",
   "execution_count": null,
   "metadata": {},
   "outputs": [],
   "source": [
    "import matplotlib.pyplot as plt\n",
    "from hans.input import Input\n",
    "from hans.plottools import DatasetSelector"
   ]
  },
  {
   "cell_type": "code",
   "execution_count": null,
   "metadata": {},
   "outputs": [],
   "source": [
    "myProblem = Input(\"journal1D_DH.yaml\").getProblem()\n",
    "myProblem.run(out_dir=\"data\")"
   ]
  },
  {
   "cell_type": "code",
   "execution_count": null,
   "metadata": {},
   "outputs": [],
   "source": [
    "files = DatasetSelector(\"data\", mode=\"select\")"
   ]
  },
  {
   "cell_type": "code",
   "execution_count": null,
   "metadata": {},
   "outputs": [],
   "source": [
    "%matplotlib notebook\n",
    "\n",
    "gr = 1.618\n",
    "pt_per_inch = 72\n",
    "width_pt = 600\n",
    "size_x = width_pt / pt_per_inch\n",
    "size_y = size_x / gr\n",
    "\n",
    "fig1, ax1 = plt.subplots(2,2, figsize=(size_x, size_y), sharex=True)\n",
    "data = files.get_centerline()\n",
    "\n",
    "for fn, fdata in data.items():\n",
    "    for (var, (xdata, ydata)), axis in zip(fdata.items(), ax1.flat):\n",
    "        axis.plot(xdata*1e3, ydata)\n",
    "\n",
    "        \n",
    "ax1[1,0].set_xlabel(r\"Distance $x\\,\\mathrm{(mm)}$\")\n",
    "ax1[1,1].set_xlabel(r\"Distance $x\\,\\mathrm{(mm)}$\")\n",
    "ax1[0,0].set_ylabel(r\"Density $\\rho$ (kg/m³)\")\n",
    "ax1[0,1].set_ylabel(r\"Pressure $p\\,\\mathrm{(Pa)}$\")\n",
    "ax1[1,0].set_ylabel(r\"Momentum density $j_x$\" + \"\\n(kg/m²s)\")\n",
    "ax1[1,1].set_ylabel(r\"Momentum denisty $j_y$\" + \"\\n(kg/m²s)\");"
   ]
  },
  {
   "cell_type": "code",
   "execution_count": null,
   "metadata": {},
   "outputs": [],
   "source": [
    "%matplotlib notebook\n",
    "\n",
    "fig2, ax2 = plt.subplots(figsize=(size_x, size_y))\n",
    "data = files.get_centerline(\"p\")\n",
    "\n",
    "for fn, fdata in data.items():\n",
    "    \n",
    "    xdata = fdata[\"p\"][0]\n",
    "    ydata = fdata[\"p\"][1]\n",
    "    ax2.plot(xdata*1e3, ydata/1e6)\n",
    "\n",
    "ax2.set_xlabel(r\"Distance $x\\,\\mathrm{(mm)}$\")\n",
    "ax2.set_ylabel(r\"Pressure $p\\,\\mathrm{(MPa)}$\");"
   ]
  }
 ],
 "metadata": {
  "kernelspec": {
   "display_name": "Python 3",
   "language": "python",
   "name": "python3"
  },
  "language_info": {
   "codemirror_mode": {
    "name": "ipython",
    "version": 3
   },
   "file_extension": ".py",
   "mimetype": "text/x-python",
   "name": "python",
   "nbconvert_exporter": "python",
   "pygments_lexer": "ipython3",
   "version": "3.6.9"
  }
 },
 "nbformat": 4,
 "nbformat_minor": 2
}
