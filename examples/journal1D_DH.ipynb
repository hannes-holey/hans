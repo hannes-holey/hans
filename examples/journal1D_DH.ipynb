{
 "cells": [
  {
   "cell_type": "code",
   "execution_count": null,
   "metadata": {},
   "outputs": [],
   "source": [
    "import matplotlib.pyplot as plt\n",
    "from hans.input import Input\n",
    "from hans.plottools import DatasetSelector"
   ]
  },
  {
   "cell_type": "code",
   "execution_count": null,
   "metadata": {},
   "outputs": [],
   "source": [
    "myProblem = Input(\"journal1D_DH.yaml\").getProblem()\n",
    "myProblem.run(out_dir=\"data\")"
   ]
  },
  {
   "cell_type": "code",
   "execution_count": null,
   "metadata": {},
   "outputs": [],
   "source": [
    "files = DatasetSelector(\"data\", mode=\"select\")"
   ]
  },
  {
   "cell_type": "code",
   "execution_count": null,
   "metadata": {},
   "outputs": [],
   "source": [
    "%matplotlib notebook\n",
    "\n",
    "fig1, ax1 = plt.subplots(2,2, sharex=True)\n",
    "xdata, ydata = files.get_centerline()[0]\n",
    "\n",
    "for key, axis in zip(ydata.keys(), ax1.flat):\n",
    "    axis.plot(xdata*1e3, ydata[key])\n",
    "\n",
    "        \n",
    "ax1[1,0].set_xlabel(r\"Distance $x\\,\\mathrm{(mm)}$\")\n",
    "ax1[1,1].set_xlabel(r\"Distance $x\\,\\mathrm{(mm)}$\")\n",
    "ax1[0,0].set_ylabel(r\"Density $\\rho$ (kg/m³)\")\n",
    "ax1[0,1].set_ylabel(r\"Pressure $p\\,\\mathrm{(Pa)}$\")\n",
    "ax1[1,0].set_ylabel(r\"Momentum density $j_x$\" + \"\\n(kg/m²s)\")\n",
    "ax1[1,1].set_ylabel(r\"Momentum denisty $j_y$\" + \"\\n(kg/m²s)\");"
   ]
  },
  {
   "cell_type": "code",
   "execution_count": null,
   "metadata": {},
   "outputs": [],
   "source": [
    "%matplotlib notebook\n",
    "\n",
    "fig2, ax2 = plt.subplots()\n",
    "xdata, ydata = files.get_centerline(\"p\")[0]\n",
    "    \n",
    "ax2.plot(xdata*1e3, ydata/1e6)\n",
    "\n",
    "ax2.set_xlabel(r\"Distance $x\\,\\mathrm{(mm)}$\")\n",
    "ax2.set_ylabel(r\"Pressure $p\\,\\mathrm{(MPa)}$\");"
   ]
  }
 ],
 "metadata": {
  "kernelspec": {
   "display_name": "Python 3",
   "language": "python",
   "name": "python3"
  },
  "language_info": {
   "codemirror_mode": {
    "name": "ipython",
    "version": 3
   },
   "file_extension": ".py",
   "mimetype": "text/x-python",
   "name": "python",
   "nbconvert_exporter": "python",
   "pygments_lexer": "ipython3",
   "version": "3.8.10"
  }
 },
 "nbformat": 4,
 "nbformat_minor": 2
}
